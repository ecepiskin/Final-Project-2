{
  "metadata": {
    "language_info": {
      "codemirror_mode": {
        "name": "python",
        "version": 3
      },
      "file_extension": ".py",
      "mimetype": "text/x-python",
      "name": "python",
      "nbconvert_exporter": "python",
      "pygments_lexer": "ipython3",
      "version": "3.8"
    },
    "kernelspec": {
      "name": "python",
      "display_name": "Python (Pyodide)",
      "language": "python"
    }
  },
  "nbformat_minor": 4,
  "nbformat": 4,
  "cells": [
    {
      "cell_type": "markdown",
      "source": " # My Final Project",
      "metadata": {}
    },
    {
      "cell_type": "markdown",
      "source": "# Introduction\nThis final project includes Data Science Languages, Data Science Libraries, Data Science Tools, some arithmetic expressions examples, sum and multiplication of some random integers, a code cell of converting minutes to hours and list of objectives of data science.",
      "metadata": {}
    },
    {
      "cell_type": "markdown",
      "source": "# Data Science Languages\n1. Python\n2. SQL\n3. R\n4. Java\n5. Scala\n6. C++\n7. JavaScript\n8. Go\n9. Ruby\n10. php\n11. Visual Basic",
      "metadata": {}
    },
    {
      "cell_type": "markdown",
      "source": "# Data Science Libraries\nThere are some examples of data science libraries,\n1. Pandas\n2. Tendorflow\n3. Seaborn\n4. Numpy\n5. Matplotlib\n6. Apache Spark\n7. Big DL\n8. Ggplot2\n9. PyTorch\n10. Scikit-learn\n11. Keras\n12. Vegas",
      "metadata": {}
    },
    {
      "cell_type": "markdown",
      "source": "| Data Science Tools |\n|-------|\n|Jupyter Notebooks|\n|R Studio|\n|Anaconda|\n|Zeppelin|\n|Spyder|\n",
      "metadata": {}
    },
    {
      "cell_type": "code",
      "source": "# There is an example of arithmetic expression:\n(4*5)+8 \n",
      "metadata": {
        "trusted": true
      },
      "execution_count": 4,
      "outputs": [
        {
          "execution_count": 4,
          "output_type": "execute_result",
          "data": {
            "text/plain": "28"
          },
          "metadata": {}
        }
      ]
    },
    {
      "cell_type": "code",
      "source": "# Examples of sum and multiplication of some random integers, seperately:\n4+5",
      "metadata": {
        "trusted": true
      },
      "execution_count": 9,
      "outputs": [
        {
          "execution_count": 9,
          "output_type": "execute_result",
          "data": {
            "text/plain": "9"
          },
          "metadata": {}
        }
      ]
    },
    {
      "cell_type": "code",
      "source": "6*3",
      "metadata": {
        "trusted": true
      },
      "execution_count": 10,
      "outputs": [
        {
          "execution_count": 10,
          "output_type": "execute_result",
          "data": {
            "text/plain": "18"
          },
          "metadata": {}
        }
      ]
    },
    {
      "cell_type": "code",
      "source": "# Converting 300 minutes to hours by dividing by 60\n300//60",
      "metadata": {
        "trusted": true
      },
      "execution_count": 11,
      "outputs": [
        {
          "execution_count": 11,
          "output_type": "execute_result",
          "data": {
            "text/plain": "5"
          },
          "metadata": {}
        }
      ]
    },
    {
      "cell_type": "markdown",
      "source": "# Objectives:\n1. Add comments to code cell\n2. Create markdown cells \n3. Add ordered lists to markdown\n4. Format content of markdown cells with heading styles",
      "metadata": {}
    },
    {
      "cell_type": "markdown",
      "source": "# Author's Name:\n# Ece Pişkin",
      "metadata": {}
    },
    {
      "cell_type": "code",
      "source": "",
      "metadata": {},
      "execution_count": null,
      "outputs": []
    },
    {
      "cell_type": "code",
      "source": "",
      "metadata": {},
      "execution_count": null,
      "outputs": []
    },
    {
      "cell_type": "code",
      "source": "",
      "metadata": {},
      "execution_count": null,
      "outputs": []
    },
    {
      "cell_type": "code",
      "source": "",
      "metadata": {},
      "execution_count": null,
      "outputs": []
    },
    {
      "cell_type": "code",
      "source": "",
      "metadata": {},
      "execution_count": null,
      "outputs": []
    }
  ]
}